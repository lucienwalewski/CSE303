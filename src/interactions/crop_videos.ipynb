{
  "nbformat": 4,
  "nbformat_minor": 0,
  "metadata": {
    "colab": {
      "name": "interactions.ipynb",
      "provenance": [],
      "collapsed_sections": [],
      "authorship_tag": "ABX9TyMiK3x4u1YgktiF2VMJL/9o",
      "include_colab_link": true
    },
    "kernelspec": {
      "name": "python3",
      "display_name": "Python 3"
    },
    "language_info": {
      "name": "python"
    }
  },
  "cells": [
    {
      "cell_type": "markdown",
      "metadata": {
        "id": "view-in-github",
        "colab_type": "text"
      },
      "source": [
        "<a href=\"https://colab.research.google.com/github/lucienwalewski/CSE303/blob/master/interactions.ipynb\" target=\"_parent\"><img src=\"https://colab.research.google.com/assets/colab-badge.svg\" alt=\"Open In Colab\"/></a>"
      ]
    },
    {
      "cell_type": "code",
      "metadata": {
        "colab": {
          "base_uri": "https://localhost:8080/"
        },
        "id": "xe10mQaFtZ25",
        "outputId": "eeefb579-673a-4ed5-ad78-218b312e8a97"
      },
      "source": [
        "from google.colab import drive\n",
        "drive.mount('/content/drive')"
      ],
      "execution_count": 1,
      "outputs": [
        {
          "output_type": "stream",
          "name": "stdout",
          "text": [
            "Mounted at /content/drive\n"
          ]
        }
      ]
    },
    {
      "cell_type": "code",
      "metadata": {
        "id": "suHzCEHx_JqJ"
      },
      "source": [
        "# load tracks\n",
        "import pickle\n",
        "with open('drive/MyDrive/Friends/tracks-features/Friends.pk', 'rb') as f:\n",
        "  tracks = pickle.load(f)"
      ],
      "execution_count": 2,
      "outputs": []
    },
    {
      "cell_type": "code",
      "metadata": {
        "id": "fm9UbtM8MUQr"
      },
      "source": [
        "! mkdir data\n",
        "! mkdir data/frames\n",
        "! tar xzf drive/MyDrive/Friends/frames/episode01.tar.gz -C data/frames"
      ],
      "execution_count": null,
      "outputs": []
    },
    {
      "cell_type": "code",
      "metadata": {
        "id": "2kEpMx9mLVLS"
      },
      "source": [
        "from google.colab import files"
      ],
      "execution_count": null,
      "outputs": []
    },
    {
      "cell_type": "code",
      "metadata": {
        "id": "HzFP7ybGNnZ2"
      },
      "source": [
        "import os\n",
        "\n",
        "! mkdir data/frames/cropped_videos\n",
        "\n",
        "for track_no in tracks['episode01']['body']:\n",
        "\n",
        "  DATA_PATH = 'data/frames/episode01'\n",
        "  OUT_PATH = 'data/frames/track' + str(track_no).zfill(3)\n",
        "  ! mkdir $OUT_PATH\n",
        "    \n",
        "  count = 0\n",
        "  for frame_bbx in tracks['episode01']['body'][track_no]:\n",
        "    frame_no = frame_bbx[0]\n",
        "    x1, y1, x2, y2 = frame_bbx[1], frame_bbx[2], frame_bbx[3], frame_bbx[4]\n",
        "\n",
        "    width = (x2 - x1)\n",
        "    height = (y2 - y1)\n",
        "\n",
        "    img_fname = str(int(frame_no)).zfill(6) + \".jpg\"\n",
        "    in_img = os.path.join(DATA_PATH, img_fname)\n",
        "    out_fno = str(int(count)).zfill(4) + \".jpg\"\n",
        "    out_img = os.path.join(OUT_PATH, f\"cropped_{out_fno}\")\n",
        "    crop_str = f'\"crop={width}:{height}:{x1}:{y1}\"'\n",
        "\n",
        "    ! ffmpeg -i $in_img -vf $crop_str $out_img\n",
        "\n",
        "    count += 1\n",
        "\n",
        "  input_path = f'data/frames/track{str(track_no).zfill(3)}/cropped_%4d.jpg'\n",
        "  video_path = f'data/frames/cropped_videos/track{str(track_no).zfill(3)}.mp4'\n",
        "  ! ffmpeg -f image2 -i $input_path $video_path\n",
        "\n",
        "  files.download(video_path)\n",
        "\n"
      ],
      "execution_count": null,
      "outputs": []
    },
    {
      "cell_type": "code",
      "metadata": {
        "id": "baKZOKpO0tZN"
      },
      "source": [
        "import os\n",
        "\n",
        "! mkdir data/frames/cropped_videos_resized\n",
        "\n",
        "for track_no in tracks['episode01']['body']:\n",
        "\n",
        "  DATA_PATH = 'data/frames/episode01'\n",
        "  OUT_PATH = 'data/frames/track' + str(track_no).zfill(3) + '_resized'\n",
        "  ! mkdir $OUT_PATH\n",
        "    \n",
        "  count = 0\n",
        "  for frame_bbx in tracks['episode01']['body'][track_no]:\n",
        "    frame_no = frame_bbx[0]\n",
        "\n",
        "    x1, y1, x2, y2 = frame_bbx[1], frame_bbx[2], frame_bbx[3], frame_bbx[4]\n",
        "\n",
        "    width = (x2 - x1)\n",
        "    height = (y2 - y1)\n",
        "    width_n = width * 1.2\n",
        "    height_n = height * 1.2\n",
        "    x_center = (x1 + x2) / 2\n",
        "    y_center = (y1 + y2) / 2\n",
        "\n",
        "    x1_n = x_center - (width_n / 2)\n",
        "    x2_n = x_center + (width_n / 2)\n",
        "\n",
        "    if x1_n < 0 or x2_n > 1280:\n",
        "      width_n = width\n",
        "      x1_n = x1\n",
        "\n",
        "    y1_n = y_center - (height_n / 2) \n",
        "    y2_n = y_center + (height_n / 2)\n",
        "\n",
        "    if y1_n < 0 or y2_n > 720:\n",
        "      height_n = height\n",
        "      y1_n = y1\n",
        "\n",
        "    img_fname = str(int(frame_no)).zfill(6) + \".jpg\"\n",
        "    in_img = os.path.join(DATA_PATH, img_fname)\n",
        "    out_fno = str(int(count)).zfill(4) + \"_resized.jpg\"\n",
        "    out_img = os.path.join(OUT_PATH, f\"cropped_{out_fno}\")\n",
        "\n",
        "    crop_str = f'\"crop={width_n}:{height_n}:{x1_n}:{y1_n}\"'\n",
        "    print(crop_str)\n",
        "\n",
        "    assert x1_n + width_n <= 1280\n",
        "    assert y1_n + height_n <= 720\n",
        "\n",
        "    ! ffmpeg -i $in_img -vf $crop_str $out_img\n",
        "\n",
        "    count += 1\n",
        "\n",
        "  input_path = f'data/frames/track{str(track_no).zfill(3)}_resized/cropped_%4d_resized.jpg'\n",
        "  video_path = f'data/frames/cropped_videos_resized/track{str(track_no).zfill(3)}_resized.mp4'\n",
        "  ! ffmpeg -f image2 -i $input_path $video_path\n",
        "\n",
        "  files.download(video_path)\n"
      ],
      "execution_count": null,
      "outputs": []
    }
  ]
}