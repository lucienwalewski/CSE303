{
 "cells": [
  {
   "cell_type": "markdown",
   "metadata": {},
   "source": [
    "# Preprocessing notebook\n",
    "\n",
    "The goal of this notebook is to to process the data obtained from the ResNets and the extracted feature vectors. The main steps performed are creating positive and negative samples. While there was some experimentation with dimensionality reduction, there was no performance gain from it."
   ]
  },
  {
   "cell_type": "markdown",
   "metadata": {},
   "source": [
    "## Imports"
   ]
  },
  {
   "cell_type": "code",
   "execution_count": 369,
   "metadata": {},
   "outputs": [],
   "source": [
    "import pandas as pd\n",
    "import numpy as np\n",
    "import json"
   ]
  },
  {
   "cell_type": "markdown",
   "metadata": {},
   "source": [
    "### Data imports"
   ]
  },
  {
   "cell_type": "code",
   "execution_count": 370,
   "metadata": {},
   "outputs": [],
   "source": [
    "df = pd.read_json('../data/tracks.json')\n",
    "with open('../data/labels.json') as f:\n",
    "    labels = json.load(f)"
   ]
  },
  {
   "cell_type": "markdown",
   "metadata": {},
   "source": [
    "### Visualizating the data"
   ]
  },
  {
   "cell_type": "code",
   "execution_count": 371,
   "metadata": {},
   "outputs": [
    {
     "data": {
      "text/html": [
       "<div>\n",
       "<style scoped>\n",
       "    .dataframe tbody tr th:only-of-type {\n",
       "        vertical-align: middle;\n",
       "    }\n",
       "\n",
       "    .dataframe tbody tr th {\n",
       "        vertical-align: top;\n",
       "    }\n",
       "\n",
       "    .dataframe thead th {\n",
       "        text-align: right;\n",
       "    }\n",
       "</style>\n",
       "<table border=\"1\" class=\"dataframe\">\n",
       "  <thead>\n",
       "    <tr style=\"text-align: right;\">\n",
       "      <th></th>\n",
       "      <th>track1</th>\n",
       "      <th>track2</th>\n",
       "      <th>person1</th>\n",
       "      <th>person2</th>\n",
       "      <th>version</th>\n",
       "      <th>episode</th>\n",
       "      <th>segment</th>\n",
       "      <th>features</th>\n",
       "      <th>video</th>\n",
       "    </tr>\n",
       "  </thead>\n",
       "  <tbody>\n",
       "    <tr>\n",
       "      <th>0</th>\n",
       "      <td>412</td>\n",
       "      <td>411</td>\n",
       "      <td>phoebe</td>\n",
       "      <td>gunther</td>\n",
       "      <td>0</td>\n",
       "      <td>episode01</td>\n",
       "      <td>[1, 16]</td>\n",
       "      <td>[0.305748283863067, 0.403462648391723, 0.37505...</td>\n",
       "      <td>video412_411_0.mp4</td>\n",
       "    </tr>\n",
       "    <tr>\n",
       "      <th>1</th>\n",
       "      <td>412</td>\n",
       "      <td>411</td>\n",
       "      <td>phoebe</td>\n",
       "      <td>gunther</td>\n",
       "      <td>0</td>\n",
       "      <td>episode01</td>\n",
       "      <td>[17, 32]</td>\n",
       "      <td>[0.9845066666603081, 0.00869304779917, 0.28160...</td>\n",
       "      <td>video412_411_0.mp4</td>\n",
       "    </tr>\n",
       "    <tr>\n",
       "      <th>2</th>\n",
       "      <td>412</td>\n",
       "      <td>411</td>\n",
       "      <td>phoebe</td>\n",
       "      <td>gunther</td>\n",
       "      <td>0</td>\n",
       "      <td>episode01</td>\n",
       "      <td>[33, 48]</td>\n",
       "      <td>[0.601864755153656, 0.16546161472797302, 1.026...</td>\n",
       "      <td>video412_411_0.mp4</td>\n",
       "    </tr>\n",
       "    <tr>\n",
       "      <th>3</th>\n",
       "      <td>412</td>\n",
       "      <td>411</td>\n",
       "      <td>phoebe</td>\n",
       "      <td>gunther</td>\n",
       "      <td>0</td>\n",
       "      <td>episode01</td>\n",
       "      <td>[49, 64]</td>\n",
       "      <td>[0.8926258087158201, 0.007743219844996, 1.2013...</td>\n",
       "      <td>video412_411_0.mp4</td>\n",
       "    </tr>\n",
       "    <tr>\n",
       "      <th>4</th>\n",
       "      <td>73</td>\n",
       "      <td>74</td>\n",
       "      <td>phoebe</td>\n",
       "      <td>rachel</td>\n",
       "      <td>0</td>\n",
       "      <td>episode01</td>\n",
       "      <td>[1, 16]</td>\n",
       "      <td>[0.28641876578330905, 0.00654274970293, 1.8379...</td>\n",
       "      <td>video073_074_0.mp4</td>\n",
       "    </tr>\n",
       "    <tr>\n",
       "      <th>...</th>\n",
       "      <td>...</td>\n",
       "      <td>...</td>\n",
       "      <td>...</td>\n",
       "      <td>...</td>\n",
       "      <td>...</td>\n",
       "      <td>...</td>\n",
       "      <td>...</td>\n",
       "      <td>...</td>\n",
       "      <td>...</td>\n",
       "    </tr>\n",
       "    <tr>\n",
       "      <th>19343</th>\n",
       "      <td>558</td>\n",
       "      <td>557</td>\n",
       "      <td>monica</td>\n",
       "      <td>phoebe</td>\n",
       "      <td>0</td>\n",
       "      <td>episode14</td>\n",
       "      <td>[49, 64]</td>\n",
       "      <td>[0.022156653925776003, 0.604685246944427, 0.00...</td>\n",
       "      <td>video558_557_0.mp4</td>\n",
       "    </tr>\n",
       "    <tr>\n",
       "      <th>19344</th>\n",
       "      <td>549</td>\n",
       "      <td>547</td>\n",
       "      <td>monica</td>\n",
       "      <td>joey</td>\n",
       "      <td>0</td>\n",
       "      <td>episode14</td>\n",
       "      <td>[1, 16]</td>\n",
       "      <td>[1.074834704399108, 0.797054231166839, 2.67562...</td>\n",
       "      <td>video549_547_0.mp4</td>\n",
       "    </tr>\n",
       "    <tr>\n",
       "      <th>19345</th>\n",
       "      <td>549</td>\n",
       "      <td>547</td>\n",
       "      <td>monica</td>\n",
       "      <td>joey</td>\n",
       "      <td>0</td>\n",
       "      <td>episode14</td>\n",
       "      <td>[17, 32]</td>\n",
       "      <td>[0.794210314750671, 0.7135680913925171, 1.6077...</td>\n",
       "      <td>video549_547_0.mp4</td>\n",
       "    </tr>\n",
       "    <tr>\n",
       "      <th>19346</th>\n",
       "      <td>549</td>\n",
       "      <td>547</td>\n",
       "      <td>monica</td>\n",
       "      <td>joey</td>\n",
       "      <td>0</td>\n",
       "      <td>episode14</td>\n",
       "      <td>[33, 48]</td>\n",
       "      <td>[1.175412058830261, 1.063856244087219, 1.45035...</td>\n",
       "      <td>video549_547_0.mp4</td>\n",
       "    </tr>\n",
       "    <tr>\n",
       "      <th>19347</th>\n",
       "      <td>549</td>\n",
       "      <td>547</td>\n",
       "      <td>monica</td>\n",
       "      <td>joey</td>\n",
       "      <td>0</td>\n",
       "      <td>episode14</td>\n",
       "      <td>[49, 64]</td>\n",
       "      <td>[1.403690576553344, 0.827893555164337, 1.01452...</td>\n",
       "      <td>video549_547_0.mp4</td>\n",
       "    </tr>\n",
       "  </tbody>\n",
       "</table>\n",
       "<p>19348 rows × 9 columns</p>\n",
       "</div>"
      ],
      "text/plain": [
       "       track1  track2 person1  person2  version    episode   segment  \\\n",
       "0         412     411  phoebe  gunther        0  episode01   [1, 16]   \n",
       "1         412     411  phoebe  gunther        0  episode01  [17, 32]   \n",
       "2         412     411  phoebe  gunther        0  episode01  [33, 48]   \n",
       "3         412     411  phoebe  gunther        0  episode01  [49, 64]   \n",
       "4          73      74  phoebe   rachel        0  episode01   [1, 16]   \n",
       "...       ...     ...     ...      ...      ...        ...       ...   \n",
       "19343     558     557  monica   phoebe        0  episode14  [49, 64]   \n",
       "19344     549     547  monica     joey        0  episode14   [1, 16]   \n",
       "19345     549     547  monica     joey        0  episode14  [17, 32]   \n",
       "19346     549     547  monica     joey        0  episode14  [33, 48]   \n",
       "19347     549     547  monica     joey        0  episode14  [49, 64]   \n",
       "\n",
       "                                                features               video  \n",
       "0      [0.305748283863067, 0.403462648391723, 0.37505...  video412_411_0.mp4  \n",
       "1      [0.9845066666603081, 0.00869304779917, 0.28160...  video412_411_0.mp4  \n",
       "2      [0.601864755153656, 0.16546161472797302, 1.026...  video412_411_0.mp4  \n",
       "3      [0.8926258087158201, 0.007743219844996, 1.2013...  video412_411_0.mp4  \n",
       "4      [0.28641876578330905, 0.00654274970293, 1.8379...  video073_074_0.mp4  \n",
       "...                                                  ...                 ...  \n",
       "19343  [0.022156653925776003, 0.604685246944427, 0.00...  video558_557_0.mp4  \n",
       "19344  [1.074834704399108, 0.797054231166839, 2.67562...  video549_547_0.mp4  \n",
       "19345  [0.794210314750671, 0.7135680913925171, 1.6077...  video549_547_0.mp4  \n",
       "19346  [1.175412058830261, 1.063856244087219, 1.45035...  video549_547_0.mp4  \n",
       "19347  [1.403690576553344, 0.827893555164337, 1.01452...  video549_547_0.mp4  \n",
       "\n",
       "[19348 rows x 9 columns]"
      ]
     },
     "execution_count": 371,
     "metadata": {},
     "output_type": "execute_result"
    }
   ],
   "source": [
    "df"
   ]
  },
  {
   "cell_type": "markdown",
   "metadata": {},
   "source": [
    "The _version_ column is superfluous so we drop it."
   ]
  },
  {
   "cell_type": "code",
   "execution_count": 234,
   "metadata": {},
   "outputs": [],
   "source": [
    "df.drop(columns=['version'], inplace=True)"
   ]
  },
  {
   "cell_type": "markdown",
   "metadata": {},
   "source": [
    "### Track example\n",
    "\n",
    "Let us look at the track 16/17 in episode 1. This corresponds to the segments [1, 16] to [97, 112] of Chandler and Phoebe. We see that the associated label is False, i.e. there is no interaction."
   ]
  },
  {
   "cell_type": "code",
   "execution_count": 237,
   "metadata": {},
   "outputs": [
    {
     "data": {
      "text/html": [
       "<div>\n",
       "<style scoped>\n",
       "    .dataframe tbody tr th:only-of-type {\n",
       "        vertical-align: middle;\n",
       "    }\n",
       "\n",
       "    .dataframe tbody tr th {\n",
       "        vertical-align: top;\n",
       "    }\n",
       "\n",
       "    .dataframe thead th {\n",
       "        text-align: right;\n",
       "    }\n",
       "</style>\n",
       "<table border=\"1\" class=\"dataframe\">\n",
       "  <thead>\n",
       "    <tr style=\"text-align: right;\">\n",
       "      <th></th>\n",
       "      <th>track1</th>\n",
       "      <th>track2</th>\n",
       "      <th>person1</th>\n",
       "      <th>person2</th>\n",
       "      <th>episode</th>\n",
       "      <th>segment</th>\n",
       "      <th>features</th>\n",
       "      <th>video</th>\n",
       "    </tr>\n",
       "  </thead>\n",
       "  <tbody>\n",
       "    <tr>\n",
       "      <th>587</th>\n",
       "      <td>16</td>\n",
       "      <td>17</td>\n",
       "      <td>chandler</td>\n",
       "      <td>phoebe</td>\n",
       "      <td>episode01</td>\n",
       "      <td>[1, 16]</td>\n",
       "      <td>[0.35464870929718, 1.900528669357299, 1.825586...</td>\n",
       "      <td>video016_017_0.mp4</td>\n",
       "    </tr>\n",
       "    <tr>\n",
       "      <th>588</th>\n",
       "      <td>16</td>\n",
       "      <td>17</td>\n",
       "      <td>chandler</td>\n",
       "      <td>phoebe</td>\n",
       "      <td>episode01</td>\n",
       "      <td>[17, 32]</td>\n",
       "      <td>[0.009576153010129, 0.39936581254005404, 1.336...</td>\n",
       "      <td>video016_017_0.mp4</td>\n",
       "    </tr>\n",
       "    <tr>\n",
       "      <th>589</th>\n",
       "      <td>16</td>\n",
       "      <td>17</td>\n",
       "      <td>chandler</td>\n",
       "      <td>phoebe</td>\n",
       "      <td>episode01</td>\n",
       "      <td>[33, 48]</td>\n",
       "      <td>[0.06511735171079601, 0.9418035745620721, 0.05...</td>\n",
       "      <td>video016_017_0.mp4</td>\n",
       "    </tr>\n",
       "    <tr>\n",
       "      <th>590</th>\n",
       "      <td>16</td>\n",
       "      <td>17</td>\n",
       "      <td>chandler</td>\n",
       "      <td>phoebe</td>\n",
       "      <td>episode01</td>\n",
       "      <td>[49, 64]</td>\n",
       "      <td>[0.24777355790138203, 2.288475275039673, 1.437...</td>\n",
       "      <td>video016_017_0.mp4</td>\n",
       "    </tr>\n",
       "    <tr>\n",
       "      <th>591</th>\n",
       "      <td>16</td>\n",
       "      <td>17</td>\n",
       "      <td>chandler</td>\n",
       "      <td>phoebe</td>\n",
       "      <td>episode01</td>\n",
       "      <td>[65, 80]</td>\n",
       "      <td>[0.33924889564514105, 1.943073034286499, 1.422...</td>\n",
       "      <td>video016_017_0.mp4</td>\n",
       "    </tr>\n",
       "    <tr>\n",
       "      <th>592</th>\n",
       "      <td>16</td>\n",
       "      <td>17</td>\n",
       "      <td>chandler</td>\n",
       "      <td>phoebe</td>\n",
       "      <td>episode01</td>\n",
       "      <td>[81, 96]</td>\n",
       "      <td>[0.19470424950122803, 2.206629037857055, 0.656...</td>\n",
       "      <td>video016_017_0.mp4</td>\n",
       "    </tr>\n",
       "    <tr>\n",
       "      <th>593</th>\n",
       "      <td>16</td>\n",
       "      <td>17</td>\n",
       "      <td>chandler</td>\n",
       "      <td>phoebe</td>\n",
       "      <td>episode01</td>\n",
       "      <td>[97, 112]</td>\n",
       "      <td>[0.23017062246799402, 1.040428400039672, 1.093...</td>\n",
       "      <td>video016_017_0.mp4</td>\n",
       "    </tr>\n",
       "  </tbody>\n",
       "</table>\n",
       "</div>"
      ],
      "text/plain": [
       "     track1  track2   person1 person2    episode    segment  \\\n",
       "587      16      17  chandler  phoebe  episode01    [1, 16]   \n",
       "588      16      17  chandler  phoebe  episode01   [17, 32]   \n",
       "589      16      17  chandler  phoebe  episode01   [33, 48]   \n",
       "590      16      17  chandler  phoebe  episode01   [49, 64]   \n",
       "591      16      17  chandler  phoebe  episode01   [65, 80]   \n",
       "592      16      17  chandler  phoebe  episode01   [81, 96]   \n",
       "593      16      17  chandler  phoebe  episode01  [97, 112]   \n",
       "\n",
       "                                              features               video  \n",
       "587  [0.35464870929718, 1.900528669357299, 1.825586...  video016_017_0.mp4  \n",
       "588  [0.009576153010129, 0.39936581254005404, 1.336...  video016_017_0.mp4  \n",
       "589  [0.06511735171079601, 0.9418035745620721, 0.05...  video016_017_0.mp4  \n",
       "590  [0.24777355790138203, 2.288475275039673, 1.437...  video016_017_0.mp4  \n",
       "591  [0.33924889564514105, 1.943073034286499, 1.422...  video016_017_0.mp4  \n",
       "592  [0.19470424950122803, 2.206629037857055, 0.656...  video016_017_0.mp4  \n",
       "593  [0.23017062246799402, 1.040428400039672, 1.093...  video016_017_0.mp4  "
      ]
     },
     "execution_count": 237,
     "metadata": {},
     "output_type": "execute_result"
    }
   ],
   "source": [
    "df[(df['track1'] == 16) & (df['track2'] == 17) & (df['episode'] == 'episode01')]"
   ]
  },
  {
   "cell_type": "code",
   "execution_count": 322,
   "metadata": {},
   "outputs": [
    {
     "data": {
      "text/html": [
       "<div>\n",
       "<style scoped>\n",
       "    .dataframe tbody tr th:only-of-type {\n",
       "        vertical-align: middle;\n",
       "    }\n",
       "\n",
       "    .dataframe tbody tr th {\n",
       "        vertical-align: top;\n",
       "    }\n",
       "\n",
       "    .dataframe thead th {\n",
       "        text-align: right;\n",
       "    }\n",
       "</style>\n",
       "<table border=\"1\" class=\"dataframe\">\n",
       "  <thead>\n",
       "    <tr style=\"text-align: right;\">\n",
       "      <th></th>\n",
       "      <th>track1</th>\n",
       "      <th>track2</th>\n",
       "      <th>person1</th>\n",
       "      <th>person2</th>\n",
       "      <th>episode</th>\n",
       "      <th>segment</th>\n",
       "      <th>features</th>\n",
       "      <th>video</th>\n",
       "    </tr>\n",
       "  </thead>\n",
       "  <tbody>\n",
       "    <tr>\n",
       "      <th>979</th>\n",
       "      <td>17</td>\n",
       "      <td>16</td>\n",
       "      <td>phoebe</td>\n",
       "      <td>chandler</td>\n",
       "      <td>episode01</td>\n",
       "      <td>[1, 16]</td>\n",
       "      <td>[0.019588408991694003, 0.625551521778106, 3.55...</td>\n",
       "      <td>video017_016_0.mp4</td>\n",
       "    </tr>\n",
       "    <tr>\n",
       "      <th>980</th>\n",
       "      <td>17</td>\n",
       "      <td>16</td>\n",
       "      <td>phoebe</td>\n",
       "      <td>chandler</td>\n",
       "      <td>episode01</td>\n",
       "      <td>[17, 32]</td>\n",
       "      <td>[0.006818289868533001, 0.7460855245590211, 3.5...</td>\n",
       "      <td>video017_016_0.mp4</td>\n",
       "    </tr>\n",
       "    <tr>\n",
       "      <th>981</th>\n",
       "      <td>17</td>\n",
       "      <td>16</td>\n",
       "      <td>phoebe</td>\n",
       "      <td>chandler</td>\n",
       "      <td>episode01</td>\n",
       "      <td>[33, 48]</td>\n",
       "      <td>[0.300980627536773, 0.442733347415924, 2.75530...</td>\n",
       "      <td>video017_016_0.mp4</td>\n",
       "    </tr>\n",
       "    <tr>\n",
       "      <th>982</th>\n",
       "      <td>17</td>\n",
       "      <td>16</td>\n",
       "      <td>phoebe</td>\n",
       "      <td>chandler</td>\n",
       "      <td>episode01</td>\n",
       "      <td>[49, 64]</td>\n",
       "      <td>[0.111174792051315, 1.04053258895874, 3.037196...</td>\n",
       "      <td>video017_016_0.mp4</td>\n",
       "    </tr>\n",
       "    <tr>\n",
       "      <th>983</th>\n",
       "      <td>17</td>\n",
       "      <td>16</td>\n",
       "      <td>phoebe</td>\n",
       "      <td>chandler</td>\n",
       "      <td>episode01</td>\n",
       "      <td>[65, 80]</td>\n",
       "      <td>[0.087654069066047, 1.101483702659607, 3.49819...</td>\n",
       "      <td>video017_016_0.mp4</td>\n",
       "    </tr>\n",
       "    <tr>\n",
       "      <th>984</th>\n",
       "      <td>17</td>\n",
       "      <td>16</td>\n",
       "      <td>phoebe</td>\n",
       "      <td>chandler</td>\n",
       "      <td>episode01</td>\n",
       "      <td>[81, 96]</td>\n",
       "      <td>[0.022392775863409, 0.8720298409461971, 3.5221...</td>\n",
       "      <td>video017_016_0.mp4</td>\n",
       "    </tr>\n",
       "    <tr>\n",
       "      <th>985</th>\n",
       "      <td>17</td>\n",
       "      <td>16</td>\n",
       "      <td>phoebe</td>\n",
       "      <td>chandler</td>\n",
       "      <td>episode01</td>\n",
       "      <td>[97, 112]</td>\n",
       "      <td>[0.442525416612625, 0.9762797951698301, 2.9311...</td>\n",
       "      <td>video017_016_0.mp4</td>\n",
       "    </tr>\n",
       "  </tbody>\n",
       "</table>\n",
       "</div>"
      ],
      "text/plain": [
       "     track1  track2 person1   person2    episode    segment  \\\n",
       "979      17      16  phoebe  chandler  episode01    [1, 16]   \n",
       "980      17      16  phoebe  chandler  episode01   [17, 32]   \n",
       "981      17      16  phoebe  chandler  episode01   [33, 48]   \n",
       "982      17      16  phoebe  chandler  episode01   [49, 64]   \n",
       "983      17      16  phoebe  chandler  episode01   [65, 80]   \n",
       "984      17      16  phoebe  chandler  episode01   [81, 96]   \n",
       "985      17      16  phoebe  chandler  episode01  [97, 112]   \n",
       "\n",
       "                                              features               video  \n",
       "979  [0.019588408991694003, 0.625551521778106, 3.55...  video017_016_0.mp4  \n",
       "980  [0.006818289868533001, 0.7460855245590211, 3.5...  video017_016_0.mp4  \n",
       "981  [0.300980627536773, 0.442733347415924, 2.75530...  video017_016_0.mp4  \n",
       "982  [0.111174792051315, 1.04053258895874, 3.037196...  video017_016_0.mp4  \n",
       "983  [0.087654069066047, 1.101483702659607, 3.49819...  video017_016_0.mp4  \n",
       "984  [0.022392775863409, 0.8720298409461971, 3.5221...  video017_016_0.mp4  \n",
       "985  [0.442525416612625, 0.9762797951698301, 2.9311...  video017_016_0.mp4  "
      ]
     },
     "execution_count": 322,
     "metadata": {},
     "output_type": "execute_result"
    }
   ],
   "source": [
    "df[(df['track1'] == 17) & (df['track2'] == 16) & (df['episode'] == 'episode01')]"
   ]
  },
  {
   "cell_type": "code",
   "execution_count": 323,
   "metadata": {},
   "outputs": [
    {
     "name": "stdout",
     "output_type": "stream",
     "text": [
      "[16, 17, False]\n"
     ]
    }
   ],
   "source": [
    "for label in labels['episode01']:\n",
    "    if (label[0], label[1]) in {(16, 17), (17, 16)}:\n",
    "        print(label)"
   ]
  },
  {
   "cell_type": "markdown",
   "metadata": {},
   "source": [
    "This is an example of a track from which we could create type 1 negatives. "
   ]
  },
  {
   "cell_type": "markdown",
   "metadata": {},
   "source": [
    "## Creating positive examples\n",
    "\n",
    "We loop over the labels and fetch the corresponding tracks."
   ]
  },
  {
   "cell_type": "code",
   "execution_count": 240,
   "metadata": {},
   "outputs": [],
   "source": [
    "def create_positive_instances(data, labels):\n",
    "    \"\"\"\n",
    "    Create positive instances from the data.\n",
    "    \"\"\"\n",
    "    positives = []\n",
    "    for episode in labels:\n",
    "        for track1, track2, label in labels[episode]:\n",
    "            if label is True:\n",
    "                person1_features = data[(data['track1'] == track1) & (data['track2'] == track2) & (data['episode'] == episode)].sort_values(by='segment', key=lambda col: col.map(lambda seg: seg[0]))\n",
    "                person2_features = data[(data['track1'] == track2) & (data['track2'] == track1) & (data['episode'] == episode)].sort_values(by='segment', key=lambda col: col.map(lambda seg: seg[0]))\n",
    "                assert len(person1_features) == len(person2_features)\n",
    "                for person1_feature, person2_feature in zip(person1_features.itertuples(), person2_features.itertuples()):\n",
    "                    positives.append({\n",
    "                        # 'episode': episode,\n",
    "                        # 'track1': track1,\n",
    "                        # 'track2': track2,\n",
    "                        # 'segment': person1_feature.segment,\n",
    "                        'person1_features': person1_feature.features,\n",
    "                        'person2_features': person2_feature.features\n",
    "                    })\n",
    "                \n",
    "    return pd.DataFrame(positives)"
   ]
  },
  {
   "cell_type": "code",
   "execution_count": 241,
   "metadata": {},
   "outputs": [
    {
     "name": "stdout",
     "output_type": "stream",
     "text": [
      "Number of positive instances: 7514\n"
     ]
    }
   ],
   "source": [
    "df_pos = create_positive_instances(df, labels)\n",
    "print(f'Number of positive instances: {len(df_pos)}')"
   ]
  },
  {
   "cell_type": "markdown",
   "metadata": {},
   "source": [
    "## Creating negatives\n",
    "\n",
    "At this stage, seeing that we have 7514 samples, we will only create \"type 4\" negative samples as they will be the most powerful and we can essentially create an infinite amount of them. The code for creating type 1 negatives is similar to the code for creating positive samples."
   ]
  },
  {
   "cell_type": "markdown",
   "metadata": {},
   "source": [
    "### Type 1 negatives\n",
    "\n",
    "These are negatives from matching spatio-temporal windows but where we know the pair not be interacting."
   ]
  },
  {
   "cell_type": "code",
   "execution_count": 243,
   "metadata": {},
   "outputs": [],
   "source": [
    "def create_type1_negatives(data, labels):\n",
    "    \"\"\"\n",
    "    Create type 1 negatives from matching spatio-temporal features.\n",
    "    \"\"\"\n",
    "    negatives = []\n",
    "    for episode in labels:\n",
    "        for track1, track2, label in labels[episode]:\n",
    "            if label is False:\n",
    "                person1_features = data[(data['track1'] == track1) & (data['track2'] == track2) & (data['episode'] == episode)].sort_values(by='segment', key=lambda col: col.map(lambda seg: seg[0]))\n",
    "                person2_features = data[(data['track1'] == track2) & (data['track2'] == track1) & (data['episode'] == episode)].sort_values(by='segment', key=lambda col: col.map(lambda seg: seg[0]))\n",
    "                assert len(person1_features) == len(person2_features)\n",
    "                for person1_feature, person2_feature in zip(person1_features.itertuples(), person2_features.itertuples()):\n",
    "                    negatives.append({\n",
    "                        # 'episode': episode,\n",
    "                        # 'track1': track1,\n",
    "                        # 'track2': track2,\n",
    "                        # 'segment': person1_feature.segment,\n",
    "                        'person1_features': person1_feature.features,\n",
    "                        'person2_features': person2_feature.features\n",
    "                    })\n",
    "                \n",
    "    return pd.DataFrame(negatives)"
   ]
  },
  {
   "cell_type": "code",
   "execution_count": 244,
   "metadata": {},
   "outputs": [
    {
     "name": "stdout",
     "output_type": "stream",
     "text": [
      "Number of type 1 negative instances: 498\n"
     ]
    }
   ],
   "source": [
    "df_neg1 = create_type1_negatives(df, labels)\n",
    "print(f'Number of type 1 negative instances: {len(df_neg1)}')"
   ]
  },
  {
   "cell_type": "markdown",
   "metadata": {},
   "source": [
    "### Type 2 negatives\n",
    "\n",
    "These are negatives from different spatio-temporal windows taken from the same track. The implementation is not complete as in the end we did  need them."
   ]
  },
  {
   "cell_type": "code",
   "execution_count": 245,
   "metadata": {},
   "outputs": [],
   "source": [
    "# FIXME:\n",
    "# def create_type2_negatives(data, labels):"
   ]
  },
  {
   "cell_type": "markdown",
   "metadata": {},
   "source": [
    "### Type 4 negatives\n",
    "\n",
    "These are negatives from different spatio-temporal windows and from different episodes and different characters. This creates a large number of negatives. We fix the number of negatives to be created as an argument in the function call. Given that we have 7514 samples, we will create a total of 100_000 for good measure as this seems reasonable. We can always reduce the number of negatives when training the model."
   ]
  },
  {
   "cell_type": "code",
   "execution_count": 372,
   "metadata": {},
   "outputs": [],
   "source": [
    "def create_type4_negatives(df: pd.DataFrame, labels, negatives_number=10_000):\n",
    "    \"\"\"Create type 4 negatives from different episodes and characters\"\"\"\n",
    "    negatives = []\n",
    "    while len(negatives) < negatives_number:\n",
    "        episode1, episode2 = np.random.choice(list(labels.keys()), size=2, replace=False)\n",
    "        tracki, trackj = df[df['episode'] == episode1].sample().iloc[0], df[df['episode'] == episode2].sample().iloc[0]\n",
    "        if tracki['person1'] != trackj['person1']:\n",
    "            negatives.append({\n",
    "                'episode_1': tracki['episode'],\n",
    "                'episode_2': trackj['episode'],\n",
    "                'person_1': tracki['person1'],\n",
    "                'person_2': trackj['person1'],\n",
    "                'version_1': tracki['version'],\n",
    "                'version_2': trackj['version'],\n",
    "                'tracki1': tracki['track1'],\n",
    "                'tracki2': tracki['track2'],\n",
    "                'trackj1': trackj['track1'],\n",
    "                'trackj2': trackj['track2'],\n",
    "                'segmenti': tracki['segment'],\n",
    "                'segmentj': trackj['segment'],\n",
    "                'person1_features': tracki['features'],\n",
    "                'person2_features': trackj['features']\n",
    "            })\n",
    "        if len(negatives) % 10_000 == 0:\n",
    "            print(f'Negatives created: {len(negatives)}')\n",
    "    return pd.DataFrame(negatives)"
   ]
  },
  {
   "cell_type": "code",
   "execution_count": 247,
   "metadata": {},
   "outputs": [
    {
     "name": "stdout",
     "output_type": "stream",
     "text": [
      "Negatives created: 0\n",
      "Negatives created: 10000\n",
      "Negatives created: 20000\n",
      "Negatives created: 30000\n",
      "Negatives created: 30000\n",
      "Negatives created: 40000\n",
      "Negatives created: 50000\n",
      "Negatives created: 60000\n",
      "Negatives created: 70000\n",
      "Negatives created: 80000\n",
      "Negatives created: 90000\n",
      "Negatives created: 100000\n",
      "Number of type 4 negative instances: 100000\n"
     ]
    },
    {
     "data": {
      "text/html": [
       "<div>\n",
       "<style scoped>\n",
       "    .dataframe tbody tr th:only-of-type {\n",
       "        vertical-align: middle;\n",
       "    }\n",
       "\n",
       "    .dataframe tbody tr th {\n",
       "        vertical-align: top;\n",
       "    }\n",
       "\n",
       "    .dataframe thead th {\n",
       "        text-align: right;\n",
       "    }\n",
       "</style>\n",
       "<table border=\"1\" class=\"dataframe\">\n",
       "  <thead>\n",
       "    <tr style=\"text-align: right;\">\n",
       "      <th></th>\n",
       "      <th>person1_features</th>\n",
       "      <th>person2_features</th>\n",
       "    </tr>\n",
       "  </thead>\n",
       "  <tbody>\n",
       "    <tr>\n",
       "      <th>0</th>\n",
       "      <td>[0.5935591459274291, 2.136274099349975, 0.2862...</td>\n",
       "      <td>[0.33274304866790705, 0.5014960169792171, 0.07...</td>\n",
       "    </tr>\n",
       "    <tr>\n",
       "      <th>1</th>\n",
       "      <td>[0.0018671104917300002, 0.9743065834045411, 2....</td>\n",
       "      <td>[0.016910068690776003, 1.055215001106262, 0.14...</td>\n",
       "    </tr>\n",
       "    <tr>\n",
       "      <th>2</th>\n",
       "      <td>[1.045803308486938, 0.0, 0.20327922701835602, ...</td>\n",
       "      <td>[1.455870866775512, 0.8921209573745721, 0.0077...</td>\n",
       "    </tr>\n",
       "    <tr>\n",
       "      <th>3</th>\n",
       "      <td>[0.38271686434745705, 1.103181362152099, 0.056...</td>\n",
       "      <td>[0.0, 0.111097387969493, 0.21661548316478701, ...</td>\n",
       "    </tr>\n",
       "    <tr>\n",
       "      <th>4</th>\n",
       "      <td>[0.053021796047687, 1.330795764923095, 1.25090...</td>\n",
       "      <td>[0.214696615934371, 0.5652663707733151, 0.0, 0...</td>\n",
       "    </tr>\n",
       "    <tr>\n",
       "      <th>...</th>\n",
       "      <td>...</td>\n",
       "      <td>...</td>\n",
       "    </tr>\n",
       "    <tr>\n",
       "      <th>99995</th>\n",
       "      <td>[0.042366411536931006, 0.6765475869178771, 0.7...</td>\n",
       "      <td>[0.20562626421451502, 0.9625936746597291, 1.12...</td>\n",
       "    </tr>\n",
       "    <tr>\n",
       "      <th>99996</th>\n",
       "      <td>[0.319629520177841, 2.245369434356689, 0.40146...</td>\n",
       "      <td>[0.150232255458831, 1.719058871269226, 0.0, 0....</td>\n",
       "    </tr>\n",
       "    <tr>\n",
       "      <th>99997</th>\n",
       "      <td>[0.09444165974855401, 0.9858267903327941, 0.08...</td>\n",
       "      <td>[1.3766940832138062, 0.44322270154953003, 0.03...</td>\n",
       "    </tr>\n",
       "    <tr>\n",
       "      <th>99998</th>\n",
       "      <td>[0.0, 0.0, 0.0, 0.029769795015454, 0.048692673...</td>\n",
       "      <td>[2.134280681610107, 0.49204528331756503, 0.036...</td>\n",
       "    </tr>\n",
       "    <tr>\n",
       "      <th>99999</th>\n",
       "      <td>[0.159065723419189, 0.9151750802993771, 1.6025...</td>\n",
       "      <td>[0.071471378207206, 2.095048427581787, 0.06371...</td>\n",
       "    </tr>\n",
       "  </tbody>\n",
       "</table>\n",
       "<p>100000 rows × 2 columns</p>\n",
       "</div>"
      ],
      "text/plain": [
       "                                        person1_features  \\\n",
       "0      [0.5935591459274291, 2.136274099349975, 0.2862...   \n",
       "1      [0.0018671104917300002, 0.9743065834045411, 2....   \n",
       "2      [1.045803308486938, 0.0, 0.20327922701835602, ...   \n",
       "3      [0.38271686434745705, 1.103181362152099, 0.056...   \n",
       "4      [0.053021796047687, 1.330795764923095, 1.25090...   \n",
       "...                                                  ...   \n",
       "99995  [0.042366411536931006, 0.6765475869178771, 0.7...   \n",
       "99996  [0.319629520177841, 2.245369434356689, 0.40146...   \n",
       "99997  [0.09444165974855401, 0.9858267903327941, 0.08...   \n",
       "99998  [0.0, 0.0, 0.0, 0.029769795015454, 0.048692673...   \n",
       "99999  [0.159065723419189, 0.9151750802993771, 1.6025...   \n",
       "\n",
       "                                        person2_features  \n",
       "0      [0.33274304866790705, 0.5014960169792171, 0.07...  \n",
       "1      [0.016910068690776003, 1.055215001106262, 0.14...  \n",
       "2      [1.455870866775512, 0.8921209573745721, 0.0077...  \n",
       "3      [0.0, 0.111097387969493, 0.21661548316478701, ...  \n",
       "4      [0.214696615934371, 0.5652663707733151, 0.0, 0...  \n",
       "...                                                  ...  \n",
       "99995  [0.20562626421451502, 0.9625936746597291, 1.12...  \n",
       "99996  [0.150232255458831, 1.719058871269226, 0.0, 0....  \n",
       "99997  [1.3766940832138062, 0.44322270154953003, 0.03...  \n",
       "99998  [2.134280681610107, 0.49204528331756503, 0.036...  \n",
       "99999  [0.071471378207206, 2.095048427581787, 0.06371...  \n",
       "\n",
       "[100000 rows x 2 columns]"
      ]
     },
     "execution_count": 247,
     "metadata": {},
     "output_type": "execute_result"
    }
   ],
   "source": [
    "df_neg4 = create_type4_negatives(df, labels, negatives_number=100_000)\n",
    "print(f'Number of type 4 negative instances: {len(df_neg4)}')\n",
    "df_neg4"
   ]
  },
  {
   "cell_type": "markdown",
   "metadata": {},
   "source": [
    "## Concatenation of the positive and negative examples"
   ]
  },
  {
   "cell_type": "code",
   "execution_count": 316,
   "metadata": {},
   "outputs": [],
   "source": [
    "df_pos['label'] = 1\n",
    "df_neg4['label'] = 0\n",
    "df_out = pd.concat([df_pos[['person1_features', 'person2_features', 'label']], df_neg4[['person1_features', 'person2_features', 'label']]], axis=0, ignore_index=True)"
   ]
  },
  {
   "cell_type": "code",
   "execution_count": 317,
   "metadata": {},
   "outputs": [
    {
     "data": {
      "text/html": [
       "<div>\n",
       "<style scoped>\n",
       "    .dataframe tbody tr th:only-of-type {\n",
       "        vertical-align: middle;\n",
       "    }\n",
       "\n",
       "    .dataframe tbody tr th {\n",
       "        vertical-align: top;\n",
       "    }\n",
       "\n",
       "    .dataframe thead th {\n",
       "        text-align: right;\n",
       "    }\n",
       "</style>\n",
       "<table border=\"1\" class=\"dataframe\">\n",
       "  <thead>\n",
       "    <tr style=\"text-align: right;\">\n",
       "      <th></th>\n",
       "      <th>person1_features</th>\n",
       "      <th>person2_features</th>\n",
       "      <th>label</th>\n",
       "    </tr>\n",
       "  </thead>\n",
       "  <tbody>\n",
       "    <tr>\n",
       "      <th>0</th>\n",
       "      <td>[0.073240458965301, 0.108803056180477, 1.90936...</td>\n",
       "      <td>[1.012074708938598, 0.40622571110725403, 0.160...</td>\n",
       "      <td>1</td>\n",
       "    </tr>\n",
       "    <tr>\n",
       "      <th>1</th>\n",
       "      <td>[0.21179485321044902, 0.012390901334583001, 1....</td>\n",
       "      <td>[0.771273374557495, 0.16172519326210003, 0.277...</td>\n",
       "      <td>1</td>\n",
       "    </tr>\n",
       "    <tr>\n",
       "      <th>2</th>\n",
       "      <td>[0.010071376338601001, 0.11898501217365201, 1....</td>\n",
       "      <td>[0.579812049865722, 0.25832888484001104, 0.559...</td>\n",
       "      <td>1</td>\n",
       "    </tr>\n",
       "    <tr>\n",
       "      <th>3</th>\n",
       "      <td>[0.371864974498748, 0.019903786480426, 0.49261...</td>\n",
       "      <td>[0.13664688169956202, 0.9641482234001161, 0.31...</td>\n",
       "      <td>1</td>\n",
       "    </tr>\n",
       "    <tr>\n",
       "      <th>4</th>\n",
       "      <td>[0.24769486486911702, 0.0, 0.562934577465057, ...</td>\n",
       "      <td>[0.6391886472702021, 0.071292459964752, 2.6756...</td>\n",
       "      <td>1</td>\n",
       "    </tr>\n",
       "    <tr>\n",
       "      <th>...</th>\n",
       "      <td>...</td>\n",
       "      <td>...</td>\n",
       "      <td>...</td>\n",
       "    </tr>\n",
       "    <tr>\n",
       "      <th>107509</th>\n",
       "      <td>[0.042366411536931006, 0.6765475869178771, 0.7...</td>\n",
       "      <td>[0.20562626421451502, 0.9625936746597291, 1.12...</td>\n",
       "      <td>0</td>\n",
       "    </tr>\n",
       "    <tr>\n",
       "      <th>107510</th>\n",
       "      <td>[0.319629520177841, 2.245369434356689, 0.40146...</td>\n",
       "      <td>[0.150232255458831, 1.719058871269226, 0.0, 0....</td>\n",
       "      <td>0</td>\n",
       "    </tr>\n",
       "    <tr>\n",
       "      <th>107511</th>\n",
       "      <td>[0.09444165974855401, 0.9858267903327941, 0.08...</td>\n",
       "      <td>[1.3766940832138062, 0.44322270154953003, 0.03...</td>\n",
       "      <td>0</td>\n",
       "    </tr>\n",
       "    <tr>\n",
       "      <th>107512</th>\n",
       "      <td>[0.0, 0.0, 0.0, 0.029769795015454, 0.048692673...</td>\n",
       "      <td>[2.134280681610107, 0.49204528331756503, 0.036...</td>\n",
       "      <td>0</td>\n",
       "    </tr>\n",
       "    <tr>\n",
       "      <th>107513</th>\n",
       "      <td>[0.159065723419189, 0.9151750802993771, 1.6025...</td>\n",
       "      <td>[0.071471378207206, 2.095048427581787, 0.06371...</td>\n",
       "      <td>0</td>\n",
       "    </tr>\n",
       "  </tbody>\n",
       "</table>\n",
       "<p>107514 rows × 3 columns</p>\n",
       "</div>"
      ],
      "text/plain": [
       "                                         person1_features  \\\n",
       "0       [0.073240458965301, 0.108803056180477, 1.90936...   \n",
       "1       [0.21179485321044902, 0.012390901334583001, 1....   \n",
       "2       [0.010071376338601001, 0.11898501217365201, 1....   \n",
       "3       [0.371864974498748, 0.019903786480426, 0.49261...   \n",
       "4       [0.24769486486911702, 0.0, 0.562934577465057, ...   \n",
       "...                                                   ...   \n",
       "107509  [0.042366411536931006, 0.6765475869178771, 0.7...   \n",
       "107510  [0.319629520177841, 2.245369434356689, 0.40146...   \n",
       "107511  [0.09444165974855401, 0.9858267903327941, 0.08...   \n",
       "107512  [0.0, 0.0, 0.0, 0.029769795015454, 0.048692673...   \n",
       "107513  [0.159065723419189, 0.9151750802993771, 1.6025...   \n",
       "\n",
       "                                         person2_features  label  \n",
       "0       [1.012074708938598, 0.40622571110725403, 0.160...      1  \n",
       "1       [0.771273374557495, 0.16172519326210003, 0.277...      1  \n",
       "2       [0.579812049865722, 0.25832888484001104, 0.559...      1  \n",
       "3       [0.13664688169956202, 0.9641482234001161, 0.31...      1  \n",
       "4       [0.6391886472702021, 0.071292459964752, 2.6756...      1  \n",
       "...                                                   ...    ...  \n",
       "107509  [0.20562626421451502, 0.9625936746597291, 1.12...      0  \n",
       "107510  [0.150232255458831, 1.719058871269226, 0.0, 0....      0  \n",
       "107511  [1.3766940832138062, 0.44322270154953003, 0.03...      0  \n",
       "107512  [2.134280681610107, 0.49204528331756503, 0.036...      0  \n",
       "107513  [0.071471378207206, 2.095048427581787, 0.06371...      0  \n",
       "\n",
       "[107514 rows x 3 columns]"
      ]
     },
     "execution_count": 317,
     "metadata": {},
     "output_type": "execute_result"
    }
   ],
   "source": [
    "df_out"
   ]
  },
  {
   "cell_type": "markdown",
   "metadata": {},
   "source": [
    "## Normalization\n",
    "\n",
    "We apply L2 normalization to the data."
   ]
  },
  {
   "cell_type": "code",
   "execution_count": 318,
   "metadata": {},
   "outputs": [],
   "source": [
    "# df_out[['person1_features', 'person2_features']] = df_out[['person1_features', 'person2_features']].applymap(lambda x: np.array(x) / (np.linalg.norm(np.array(x))))"
   ]
  },
  {
   "cell_type": "markdown",
   "metadata": {},
   "source": [
    "## Saving data"
   ]
  },
  {
   "cell_type": "code",
   "execution_count": 319,
   "metadata": {},
   "outputs": [],
   "source": [
    "from sklearn.utils import shuffle"
   ]
  },
  {
   "cell_type": "code",
   "execution_count": 320,
   "metadata": {},
   "outputs": [],
   "source": [
    "df_out.to_json('../data/features.json', orient='records')"
   ]
  },
  {
   "cell_type": "markdown",
   "metadata": {},
   "source": [
    "## Dimensionality reduction\n",
    "\n",
    "This section of code has been commented out as it is no longer used."
   ]
  },
  {
   "cell_type": "code",
   "execution_count": null,
   "metadata": {},
   "outputs": [],
   "source": [
    "# df_new = pd.DataFrame(index=np.arange(len(df_out)), columns=np.arange(1025))"
   ]
  },
  {
   "cell_type": "code",
   "execution_count": null,
   "metadata": {},
   "outputs": [],
   "source": [
    "# for row in df_out.itertuples(index=True):\n",
    "#     df_new.loc[row[0]] = row[1] + row[2] + [row[3]]"
   ]
  },
  {
   "cell_type": "code",
   "execution_count": null,
   "metadata": {},
   "outputs": [],
   "source": [
    "# df_new"
   ]
  },
  {
   "cell_type": "code",
   "execution_count": null,
   "metadata": {},
   "outputs": [],
   "source": [
    "# from sklearn.decomposition import PCA\n",
    "# from sklearn.preprocessing import StandardScaler\n",
    "# from sklearn.manifold import TSNE"
   ]
  },
  {
   "cell_type": "code",
   "execution_count": null,
   "metadata": {},
   "outputs": [],
   "source": [
    "# df_out\n",
    "# x = []\n",
    "# for row in df_out.itertuples():\n",
    "#     x.append(row[1])\n",
    "#     x.append(row[2])\n",
    "# x = np.array(x)\n",
    "# x.shape\n",
    "# # x = np.array([[np.array(row[0]), np.array(row[1])] for row in df_out.itertuples()])\n",
    "# # x.shape"
   ]
  },
  {
   "cell_type": "code",
   "execution_count": null,
   "metadata": {},
   "outputs": [],
   "source": [
    "# pca = PCA(n_components=100)\n",
    "\n",
    "# # x = df_new.drop(columns=[1024])\n",
    "# x = StandardScaler().fit_transform(x)\n",
    "# # x = pca.fit_transform(x)\n",
    "# x = TSNE(n_components=2).fit_transform(x)\n",
    "# x.shape"
   ]
  },
  {
   "cell_type": "code",
   "execution_count": null,
   "metadata": {},
   "outputs": [],
   "source": [
    "# y = []\n",
    "# for i in range(len(x) // 2):\n",
    "#     y.append([x[2*i], x[2*i+1]])\n",
    "# principal_df = pd.DataFrame(data=y, columns=['principal component 1', 'principal component 2'])\n",
    "# final_df = pd.concat([principal_df, df_out[['label']]], axis=1)"
   ]
  },
  {
   "cell_type": "code",
   "execution_count": null,
   "metadata": {},
   "outputs": [],
   "source": [
    "# final_df.rename(columns={1024: 'label', 'principal component 1': 'person1_features', 'principal component 2': 'person2_features'}, inplace=True)\n",
    "# final_df"
   ]
  }
 ],
 "metadata": {
  "interpreter": {
   "hash": "c5251a192bb2b75330a75825cae194f87eae9396b2c8758618676230d97c8bdd"
  },
  "kernelspec": {
   "display_name": "Python 3.9.7 64-bit ('venv': venv)",
   "language": "python",
   "name": "python3"
  },
  "language_info": {
   "codemirror_mode": {
    "name": "ipython",
    "version": 3
   },
   "file_extension": ".py",
   "mimetype": "text/x-python",
   "name": "python",
   "nbconvert_exporter": "python",
   "pygments_lexer": "ipython3",
   "version": "3.9.7"
  },
  "orig_nbformat": 4
 },
 "nbformat": 4,
 "nbformat_minor": 2
}
